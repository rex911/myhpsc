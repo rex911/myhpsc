{
 "metadata": {
  "name": "quadrature"
 },
 "nbformat": 3,
 "nbformat_minor": 0,
 "worksheets": [
  {
   "cells": [
    {
     "cell_type": "heading",
     "level": 1,
     "metadata": {},
     "source": [
      "Numerical Quadrature"
     ]
    },
    {
     "cell_type": "markdown",
     "metadata": {},
     "source": [
      "Numerical quadrature refers to approximating a definite integral numerically, \n",
      "$$~~ \\int_a^b f(x) dx.$$\n",
      "Many numerical analysis textbooks describe a variety of quadrature methods or \"rules\".  "
     ]
    },
    {
     "cell_type": "markdown",
     "metadata": {},
     "source": [
      "First define a simple function for which we know the exact answer:"
     ]
    },
    {
     "cell_type": "code",
     "collapsed": false,
     "input": [
      "def f1(x):\n",
      "    return 1. + x**3\n",
      "\n",
      "a1 = 0.\n",
      "b1 = 2.\n",
      "int_true1 = (b1-a1) + (b1**4 -a1**4) / 4.\n",
      "print \"true integral: %22.14e\" % int_true1"
     ],
     "language": "python",
     "metadata": {},
     "outputs": [
      {
       "output_type": "stream",
       "stream": "stdout",
       "text": [
        "true integral:   6.00000000000000e+00\n"
       ]
      }
     ],
     "prompt_number": 176
    },
    {
     "cell_type": "heading",
     "level": 2,
     "metadata": {},
     "source": [
      "The Trapezoid Rule"
     ]
    },
    {
     "cell_type": "markdown",
     "metadata": {},
     "source": [
      "We will first look at the Trapezoid method.  This method is implemented by evaluating the function at $n$ points and then computing the areas of the trapezoids defined by a piecewise linear approximation to the original function defined by these points.  In the figure below, we are approximating the integral of the blue curve by the sum of the areas of the red trapezoids."
     ]
    },
    {
     "cell_type": "code",
     "collapsed": false,
     "input": [
      "def plot_trap(f,a,b,n):\n",
      "    x = linspace(a-0.2, b+0.2, 10000) # points for smooth plot\n",
      "    plot(x,f(x),'b-')\n",
      "    xj = linspace(a,b,n)\n",
      "    plot(xj,f(xj),'ro-')\n",
      "    for xi in xj:\n",
      "        plot([xi,xi], [0,f(xi)], 'r')\n",
      "    plot([a,b], [0,0], 'r') # along x-axis\n",
      "\n",
      "plot_trap(f1,a1,b1,5)"
     ],
     "language": "python",
     "metadata": {},
     "outputs": [
      {
       "output_type": "display_data",
       "png": "[encoded data removed]"
      }
     ],
     "prompt_number": 177
    },
    {
     "cell_type": "heading",
     "level": 3,
     "metadata": {},
     "source": [
      "The Trapezoid rule formula"
     ]
    },
    {
     "cell_type": "markdown",
     "metadata": {},
     "source": [
      "The area of a single trapezoid is the width of the base times the average height, so between points $x_j$ and $x_{j+1}$ this gives:\n",
      "$$ \\frac{h}{2} (f(x_j) + f(x_{j+1}). $$\n",
      "\n",
      "Summing this up over all the trapezoids gives:\n",
      "$$ h\\left(\\frac 1 2 f(x_0) + f(x_1) + f(x_2) + \\cdots + f(x_{n-2}) + \\frac 1 2 f(x_{n-1})\\right) = h\\sum_{j=0}^{n-1} f(x_j) - \\frac h 2 \\left(f(x_0) + f(x_{n-1})\\right) =  h\\sum_{j=0}^{n-1} f(x_j) - \\frac h 2 \\left(f(a) + f(b))\\right). $$\n",
      "\n",
      "This can be implemented as follows (note that in Python fj[-1] refers to the last element of fj, and similarly fj[-2] would be the next to last element)."
     ]
    },
    {
     "cell_type": "code",
     "collapsed": false,
     "input": [
      "def trapezoid(f,a,b,n):\n",
      "    h = (b-a)/(n-1)\n",
      "    xj = linspace(a,b,n)\n",
      "    fj = f(xj)\n",
      "    int_trapezoid = h*sum(fj) - 0.5*h*(fj[0] + fj[-1])\n",
      "    return int_trapezoid\n"
     ],
     "language": "python",
     "metadata": {},
     "outputs": [],
     "prompt_number": 178
    },
    {
     "cell_type": "markdown",
     "metadata": {},
     "source": [
      "We can test it out for the points used in the figure above:"
     ]
    },
    {
     "cell_type": "code",
     "collapsed": false,
     "input": [
      "n = 5\n",
      "int_trap = trapezoid(f1,a1,b1,n)\n",
      "error = abs(int_trap - int_true1)\n",
      "print \"trapezoid rule approximation: %22.14e,  error: %10.3e\" % (int_trap, error)"
     ],
     "language": "python",
     "metadata": {},
     "outputs": [
      {
       "output_type": "stream",
       "stream": "stdout",
       "text": [
        "trapezoid rule approximation:   6.25000000000000e+00,  error:  2.500e-01\n"
       ]
      }
     ],
     "prompt_number": 179
    },
    {
     "cell_type": "markdown",
     "metadata": {},
     "source": [
      "Using more points will give a better approximation, try changing it in the cell above."
     ]
    },
    {
     "cell_type": "heading",
     "level": 3,
     "metadata": {},
     "source": [
      "Convergence tests"
     ]
    },
    {
     "cell_type": "markdown",
     "metadata": {},
     "source": [
      "If we increase n, the number of points used, and hence decrease h, the spacing between points, we expect the error to converge to zero for reasonable functions $f(x)$.\n",
      "\n",
      "The trapezoid rule is \"second order accurate\", meaning that the error goes to zero like $O(h^2)$ for a function that is sufficiently smooth (for example if its second derivative is continuous).  For small $h$, the error is expected to be behave like $Ch^2 + O(h^3)~$ as $h$ goes to zero, where $C$ is some constant that depends on how smooth $h$ is.  \n",
      "\n",
      "If we double n (and halve h) then we expect the error to go down by a factor of 4 roughly (from $Ch^2$ to $C(h/2)^2~$).\n",
      "\n",
      "We can check this by trying several values of n and making a table of the errors and the ratio from one n to the next:"
     ]
    },
    {
     "cell_type": "code",
     "collapsed": false,
     "input": [
      "def error_table(f,a,b,nvals,int_true):\n",
      "    print \"      n         trapezoid            error       ratio\"\n",
      "    last_error = 0.  # need something for first ratio\n",
      "    for n in nvals:\n",
      "        int_trap = trapezoid(f,a,b,n)\n",
      "        error = abs(int_trap - int_true)\n",
      "        ratio = last_error / error\n",
      "        last_error = error # for next n\n",
      "        print \"%8i  %22.14e  %10.3e  %10.3e\" % (n,int_trap, error, ratio)\n",
      "    \n",
      "nvals = array([5, 10, 20, 40, 80, 160, 320])\n",
      "error_table(f1,a1,b1,nvals,int_true1)"
     ],
     "language": "python",
     "metadata": {},
     "outputs": [
      {
       "output_type": "stream",
       "stream": "stdout",
       "text": [
        "      n         trapezoid            error       ratio\n",
        "       5    6.25000000000000e+00   2.500e-01   0.000e+00\n",
        "      10    6.04938271604938e+00   4.938e-02   5.062e+00\n",
        "      20    6.01108033240997e+00   1.108e-02   4.457e+00\n",
        "      40    6.00262984878369e+00   2.630e-03   4.213e+00\n",
        "      80    6.00064092292902e+00   6.409e-04   4.103e+00\n",
        "     160    6.00015822158934e+00   1.582e-04   4.051e+00\n",
        "     320    6.00003930778982e+00   3.931e-05   4.025e+00\n"
       ]
      }
     ],
     "prompt_number": 180
    },
    {
     "cell_type": "markdown",
     "metadata": {},
     "source": [
      "(Note that the first ratio reported is meaningless.)\n",
      "\n",
      "Convergence might be easier to see in a plot.  If a method is p'th order accurate then we expect the error to behave like $E\\approx Ch^p$ for some constant $C$, for small $h$.  This is hard to visualize.  It is much easier to see what order accuracy we are achieving if we produce a log-log plot instead, since $E = Ch^p~$ means that $\\log E = \\log C + p\\log h$ \n",
      "\n",
      "In other words $\\log E~$ is a linear function of $\\log h~$."
     ]
    },
    {
     "cell_type": "code",
     "collapsed": false,
     "input": [
      "def error_plot(f,a,b,nvals,int_true):\n",
      "    errvals = zeros(nvals.shape)  # initialize to right shape\n",
      "    for i in range(len(nvals)):\n",
      "        n = nvals[i]\n",
      "        int_trap = trapezoid(f,a,b,n)\n",
      "        error = abs(int_trap - int_true)\n",
      "        errvals[i] = error\n",
      "    hvals = (b - a) / (nvals - 1)  # vector of h values for each n\n",
      "    loglog(hvals,errvals, 'o-')\n",
      "    xlabel('spacing h')\n",
      "    ylabel('error')\n",
      "    \n",
      "error_plot(f1,a1,b1,nvals,int_true1)"
     ],
     "language": "python",
     "metadata": {},
     "outputs": [
      {
       "output_type": "display_data",
       "png": "[encoded data removed]"
      }
     ],
     "prompt_number": 181
    },
    {
     "cell_type": "heading",
     "level": 3,
     "metadata": {},
     "source": [
      "An oscillatory function"
     ]
    },
    {
     "cell_type": "markdown",
     "metadata": {},
     "source": [
      "If the function $f(x)$ is not as smooth (has larger second derivative at various places) then the accuracy with a small number of points will not be nearly as good.  For example, consider this function:"
     ]
    },
    {
     "cell_type": "code",
     "collapsed": false,
     "input": [
      "k = 50.\n",
      "def f2(x):\n",
      "    return 1. + x**3 + sin(k*x)\n",
      "\n",
      "a2 = 0.\n",
      "b2 = 2.\n",
      "int_true2 = (b2-a2) + (b2**4 - a2**4) / 4. - (1./k) * (cos(k*b2) - cos(k*a2))\n",
      "print \"true integral: %22.14e\" % int_true2"
     ],
     "language": "python",
     "metadata": {},
     "outputs": [
      {
       "output_type": "stream",
       "stream": "stdout",
       "text": [
        "true integral:   6.00275362255425e+00\n"
       ]
      }
     ],
     "prompt_number": 182
    },
    {
     "cell_type": "markdown",
     "metadata": {},
     "source": [
      "Making k larger will make it more oscillatory.  For this function with k=50, using n=10 points is not going to give a very good approximation:"
     ]
    },
    {
     "cell_type": "code",
     "collapsed": false,
     "input": [
      "plot_trap(f2,a2,b2,10)"
     ],
     "language": "python",
     "metadata": {},
     "outputs": [
      {
       "output_type": "display_data",
       "png": "[encoded data removed]"
      }
     ],
     "prompt_number": 183
    },
    {
     "cell_type": "markdown",
     "metadata": {},
     "source": [
      "This doesn't look very good, but for larger values of $n$ we still see the expected convergence rate:"
     ]
    },
    {
     "cell_type": "code",
     "collapsed": false,
     "input": [
      "error_plot(f2,a2,b2,nvals,int_true2)"
     ],
     "language": "python",
     "metadata": {},
     "outputs": [
      {
       "output_type": "display_data",
       "png": "[encoded data removed]"
      }
     ],
     "prompt_number": 184
    },
    {
     "cell_type": "markdown",
     "metadata": {},
     "source": [
      "Now make the function much more oscillatory with a larger value of $k$..."
     ]
    },
    {
     "cell_type": "code",
     "collapsed": false,
     "input": [
      "k = 1000.\n",
      "def f2(x):\n",
      "    return 1. + x**3 + sin(k*x)\n",
      "\n",
      "a2 = 0.\n",
      "b2 = 2.\n",
      "int_true2 = (b2-a2) + (b2**4 - a2**4) / 4. - (1./k) * (cos(k*b2) - cos(k*a2))\n",
      "print \"true integral: %22.14e\" % int_true2"
     ],
     "language": "python",
     "metadata": {},
     "outputs": [
      {
       "output_type": "stream",
       "stream": "stdout",
       "text": [
        "true integral:   6.00136745954910e+00\n"
       ]
      }
     ],
     "prompt_number": 185
    },
    {
     "cell_type": "markdown",
     "metadata": {},
     "source": [
      "For the previous choice of nvals the method does not seem to be doing well:"
     ]
    },
    {
     "cell_type": "code",
     "collapsed": false,
     "input": [
      "nvals = array([5, 10, 20, 40, 80, 160, 320])\n",
      "print \"nvals = \",nvals\n",
      "error_plot(f2,a2,b2,nvals,int_true2)"
     ],
     "language": "python",
     "metadata": {},
     "outputs": [
      {
       "output_type": "stream",
       "stream": "stdout",
       "text": [
        "nvals =  [  5  10  20  40  80 160 320]\n"
       ]
      },
      {
       "output_type": "display_data",
       "png": "[encoded data removed]"
      }
     ],
     "prompt_number": 186
    },
    {
     "cell_type": "markdown",
     "metadata": {},
     "source": [
      "In this case the $O(h^2)~$ behavior does not become apparent unless we use much smaller $h$ values so that we are resolving the oscillations:"
     ]
    },
    {
     "cell_type": "code",
     "collapsed": false,
     "input": [
      "nvals = array([5 * 2**i for i in range(12)])\n",
      "print \"nvals = \",nvals\n",
      "error_plot(f2,a2,b2,nvals,int_true2)"
     ],
     "language": "python",
     "metadata": {},
     "outputs": [
      {
       "output_type": "stream",
       "stream": "stdout",
       "text": [
        "nvals =  [    5    10    20    40    80   160   320   640  1280  2560  5120 10240]\n"
       ]
      },
      {
       "output_type": "display_data",
       "png": "[encoded data removed]"
      }
     ],
     "prompt_number": 187
    },
    {
     "cell_type": "markdown",
     "metadata": {},
     "source": [
      "Eventually we see second order convergence and ratios that approach 4:"
     ]
    },
    {
     "cell_type": "code",
     "collapsed": false,
     "input": [
      "error_table(f2,a2,b2,nvals,int_true2)"
     ],
     "language": "python",
     "metadata": {},
     "outputs": [
      {
       "output_type": "stream",
       "stream": "stdout",
       "text": [
        "      n         trapezoid            error       ratio\n",
        "       5    6.16511276525547e+00   1.637e-01   0.000e+00\n",
        "      10    6.11640342954375e+00   1.150e-01   1.423e+00\n",
        "      20    5.93766915031525e+00   6.370e-02   1.806e+00\n",
        "      40    6.06556743605608e+00   6.420e-02   9.922e-01\n",
        "      80    6.18855102747922e+00   1.872e-01   3.430e-01\n",
        "     160    7.40477216296790e+00   1.403e+00   1.334e-01\n",
        "     320    5.36931843072561e+00   6.320e-01   2.220e+00\n",
        "     640    6.00002231770676e+00   1.345e-03   4.699e+02\n",
        "    1280    6.00107919913986e+00   2.883e-04   4.666e+00\n",
        "    2560    6.00129774432062e+00   6.972e-05   4.135e+00\n",
        "    5120    6.00135017283866e+00   1.729e-05   4.033e+00\n",
        "   10240    6.00136314705017e+00   4.312e-06   4.009e+00\n"
       ]
      }
     ],
     "prompt_number": 188
    },
    {
     "cell_type": "code",
     "collapsed": false,
     "input": [],
     "language": "python",
     "metadata": {},
     "outputs": [],
     "prompt_number": 188
    }
   ],
   "metadata": {}
  }
 ]
}